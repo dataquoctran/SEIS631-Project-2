{
 "cells": [
  {
   "cell_type": "markdown",
   "id": "2fafebdd-ae9b-4aaa-80f8-084c4f35f16e",
   "metadata": {},
   "source": [
    "<span style=\"color: BLACK;font-size: 24px;\">[KAGGLE] PROJECT 2: Intro to Exploratory data analysis (EDA) in Python</span>\n"
   ]
  },
  {
   "cell_type": "markdown",
   "id": "37770fc7-e772-46dc-8f9b-bead1a9ed74d",
   "metadata": {},
   "source": [
    "<span style=\"background-color: lightblue; color: BLACK;font-size: 18px;\">1. Install package and dictionaries </span>\n"
   ]
  },
  {
   "cell_type": "code",
   "execution_count": 1,
   "id": "df4365b2-5613-4ab8-914f-a74048344c4b",
   "metadata": {},
   "outputs": [
    {
     "name": "stdout",
     "output_type": "stream",
     "text": [
      "Requirement already satisfied: seaborn in c:\\users\\hungt\\desktop\\python\\python\\lib\\site-packages (0.13.2)\n",
      "Requirement already satisfied: numpy!=1.24.0,>=1.20 in c:\\users\\hungt\\desktop\\python\\python\\lib\\site-packages (from seaborn) (2.0.0)\n",
      "Requirement already satisfied: pandas>=1.2 in c:\\users\\hungt\\desktop\\python\\python\\lib\\site-packages (from seaborn) (2.2.2)\n",
      "Requirement already satisfied: matplotlib!=3.6.1,>=3.4 in c:\\users\\hungt\\desktop\\python\\python\\lib\\site-packages (from seaborn) (3.9.0)\n",
      "Requirement already satisfied: contourpy>=1.0.1 in c:\\users\\hungt\\desktop\\python\\python\\lib\\site-packages (from matplotlib!=3.6.1,>=3.4->seaborn) (1.2.1)\n",
      "Requirement already satisfied: cycler>=0.10 in c:\\users\\hungt\\desktop\\python\\python\\lib\\site-packages (from matplotlib!=3.6.1,>=3.4->seaborn) (0.12.1)\n",
      "Requirement already satisfied: fonttools>=4.22.0 in c:\\users\\hungt\\desktop\\python\\python\\lib\\site-packages (from matplotlib!=3.6.1,>=3.4->seaborn) (4.53.0)\n",
      "Requirement already satisfied: kiwisolver>=1.3.1 in c:\\users\\hungt\\desktop\\python\\python\\lib\\site-packages (from matplotlib!=3.6.1,>=3.4->seaborn) (1.4.5)\n",
      "Requirement already satisfied: packaging>=20.0 in c:\\users\\hungt\\desktop\\python\\python\\lib\\site-packages (from matplotlib!=3.6.1,>=3.4->seaborn) (24.1)\n",
      "Requirement already satisfied: pillow>=8 in c:\\users\\hungt\\desktop\\python\\python\\lib\\site-packages (from matplotlib!=3.6.1,>=3.4->seaborn) (10.3.0)\n",
      "Requirement already satisfied: pyparsing>=2.3.1 in c:\\users\\hungt\\desktop\\python\\python\\lib\\site-packages (from matplotlib!=3.6.1,>=3.4->seaborn) (3.1.2)\n",
      "Requirement already satisfied: python-dateutil>=2.7 in c:\\users\\hungt\\desktop\\python\\python\\lib\\site-packages (from matplotlib!=3.6.1,>=3.4->seaborn) (2.9.0.post0)\n",
      "Requirement already satisfied: pytz>=2020.1 in c:\\users\\hungt\\desktop\\python\\python\\lib\\site-packages (from pandas>=1.2->seaborn) (2024.1)\n",
      "Requirement already satisfied: tzdata>=2022.7 in c:\\users\\hungt\\desktop\\python\\python\\lib\\site-packages (from pandas>=1.2->seaborn) (2024.1)\n",
      "Requirement already satisfied: six>=1.5 in c:\\users\\hungt\\desktop\\python\\python\\lib\\site-packages (from python-dateutil>=2.7->matplotlib!=3.6.1,>=3.4->seaborn) (1.16.0)\n",
      "Note: you may need to restart the kernel to use updated packages.\n"
     ]
    },
    {
     "name": "stderr",
     "output_type": "stream",
     "text": [
      "\n",
      "[notice] A new release of pip is available: 24.0 -> 24.3.1\n",
      "[notice] To update, run: python.exe -m pip install --upgrade pip\n"
     ]
    }
   ],
   "source": [
    "pip install seaborn\n"
   ]
  },
  {
   "cell_type": "code",
   "execution_count": 2,
   "id": "e482d8be-f3c3-449b-9f7c-e4dc888f4427",
   "metadata": {},
   "outputs": [],
   "source": [
    "import pandas as pd\n",
    "import numpy as np\n",
    "import seaborn as sns                       #visualisation\n",
    "import matplotlib.pyplot as plt             #visualisation\n",
    "%matplotlib inline     \n",
    "sns.set(color_codes=True)"
   ]
  },
  {
   "cell_type": "markdown",
   "id": "399c00be-9514-4932-879d-62f8f4e25c7c",
   "metadata": {},
   "source": [
    "<span style=\"background-color: lightblue;color: BLACK;font-size: 18px;\">2. Explore dataset </span>\n"
   ]
  },
  {
   "cell_type": "markdown",
   "id": "05e54fc0-d378-4fe4-8fdd-e285e0bd73b2",
   "metadata": {},
   "source": [
    "<span style=\"background-color: yellow; color: BLACK;font-size: 18px;\"> New Code </span>\n"
   ]
  },
  {
   "cell_type": "code",
   "execution_count": 35,
   "id": "6b8ea4af-9eb7-47a9-b358-ececd49248f8",
   "metadata": {},
   "outputs": [
    {
     "name": "stdout",
     "output_type": "stream",
     "text": [
      "0            Make\n",
      "1           Model\n",
      "2            Year\n",
      "3              HP\n",
      "4       Cylinders\n",
      "5    Transmission\n",
      "6      Drive Mode\n",
      "7           MPG-H\n",
      "8           MPG-C\n",
      "9           Price\n",
      "dtype: object\n"
     ]
    },
    {
     "data": {
      "text/html": [
       "<div>\n",
       "<style scoped>\n",
       "    .dataframe tbody tr th:only-of-type {\n",
       "        vertical-align: middle;\n",
       "    }\n",
       "\n",
       "    .dataframe tbody tr th {\n",
       "        vertical-align: top;\n",
       "    }\n",
       "\n",
       "    .dataframe thead th {\n",
       "        text-align: right;\n",
       "    }\n",
       "</style>\n",
       "<table border=\"1\" class=\"dataframe\">\n",
       "  <thead>\n",
       "    <tr style=\"text-align: right;\">\n",
       "      <th></th>\n",
       "      <th>Make</th>\n",
       "      <th>Model</th>\n",
       "      <th>Year</th>\n",
       "      <th>HP</th>\n",
       "      <th>Cylinders</th>\n",
       "      <th>Transmission</th>\n",
       "      <th>Drive Mode</th>\n",
       "      <th>MPG-H</th>\n",
       "      <th>MPG-C</th>\n",
       "      <th>Price</th>\n",
       "    </tr>\n",
       "  </thead>\n",
       "  <tbody>\n",
       "    <tr>\n",
       "      <th>5304</th>\n",
       "      <td>Mercedes-Benz</td>\n",
       "      <td>GLA-Class</td>\n",
       "      <td>2017</td>\n",
       "      <td>208.0</td>\n",
       "      <td>4.0</td>\n",
       "      <td>AUTOMATIC</td>\n",
       "      <td>front wheel drive</td>\n",
       "      <td>33</td>\n",
       "      <td>24</td>\n",
       "      <td>32850</td>\n",
       "    </tr>\n",
       "    <tr>\n",
       "      <th>1814</th>\n",
       "      <td>Volkswagen</td>\n",
       "      <td>Beetle Convertible</td>\n",
       "      <td>2014</td>\n",
       "      <td>170.0</td>\n",
       "      <td>5.0</td>\n",
       "      <td>AUTOMATIC</td>\n",
       "      <td>front wheel drive</td>\n",
       "      <td>27</td>\n",
       "      <td>21</td>\n",
       "      <td>29395</td>\n",
       "    </tr>\n",
       "    <tr>\n",
       "      <th>5843</th>\n",
       "      <td>Chrysler</td>\n",
       "      <td>Imperial</td>\n",
       "      <td>1993</td>\n",
       "      <td>150.0</td>\n",
       "      <td>6.0</td>\n",
       "      <td>AUTOMATIC</td>\n",
       "      <td>front wheel drive</td>\n",
       "      <td>24</td>\n",
       "      <td>17</td>\n",
       "      <td>2000</td>\n",
       "    </tr>\n",
       "    <tr>\n",
       "      <th>2049</th>\n",
       "      <td>Subaru</td>\n",
       "      <td>BRZ</td>\n",
       "      <td>2015</td>\n",
       "      <td>200.0</td>\n",
       "      <td>4.0</td>\n",
       "      <td>MANUAL</td>\n",
       "      <td>rear wheel drive</td>\n",
       "      <td>30</td>\n",
       "      <td>22</td>\n",
       "      <td>27695</td>\n",
       "    </tr>\n",
       "    <tr>\n",
       "      <th>11628</th>\n",
       "      <td>Volvo</td>\n",
       "      <td>XC90</td>\n",
       "      <td>2016</td>\n",
       "      <td>316.0</td>\n",
       "      <td>4.0</td>\n",
       "      <td>AUTOMATIC</td>\n",
       "      <td>all wheel drive</td>\n",
       "      <td>25</td>\n",
       "      <td>20</td>\n",
       "      <td>55400</td>\n",
       "    </tr>\n",
       "  </tbody>\n",
       "</table>\n",
       "</div>"
      ],
      "text/plain": [
       "                Make               Model  Year     HP  Cylinders Transmission  \\\n",
       "5304   Mercedes-Benz           GLA-Class  2017  208.0        4.0    AUTOMATIC   \n",
       "1814      Volkswagen  Beetle Convertible  2014  170.0        5.0    AUTOMATIC   \n",
       "5843        Chrysler            Imperial  1993  150.0        6.0    AUTOMATIC   \n",
       "2049          Subaru                 BRZ  2015  200.0        4.0       MANUAL   \n",
       "11628          Volvo                XC90  2016  316.0        4.0    AUTOMATIC   \n",
       "\n",
       "              Drive Mode  MPG-H  MPG-C  Price  \n",
       "5304   front wheel drive     33     24  32850  \n",
       "1814   front wheel drive     27     21  29395  \n",
       "5843   front wheel drive     24     17   2000  \n",
       "2049    rear wheel drive     30     22  27695  \n",
       "11628    all wheel drive     25     20  55400  "
      ]
     },
     "execution_count": 35,
     "metadata": {},
     "output_type": "execute_result"
    }
   ],
   "source": [
    "print(pd.Series(df.columns.tolist()))    \n",
    "df.sample(5) "
   ]
  },
  {
   "cell_type": "code",
   "execution_count": 3,
   "id": "0c37ee59-810d-4498-b0f3-f6d8f2548cd6",
   "metadata": {},
   "outputs": [
    {
     "name": "stdout",
     "output_type": "stream",
     "text": [
      "0                  Make\n",
      "1                 Model\n",
      "2                  Year\n",
      "3      Engine Fuel Type\n",
      "4             Engine HP\n",
      "5      Engine Cylinders\n",
      "6     Transmission Type\n",
      "7         Driven_Wheels\n",
      "8       Number of Doors\n",
      "9       Market Category\n",
      "10         Vehicle Size\n",
      "11        Vehicle Style\n",
      "12          highway MPG\n",
      "13             city mpg\n",
      "14           Popularity\n",
      "15                 MSRP\n",
      "dtype: object\n"
     ]
    }
   ],
   "source": [
    "df = pd.read_csv(\"C:/Users/hungt/Desktop/Data Prep/Project 2 Kaggle/data.csv\")\n",
    "print(pd.Series(df.columns.tolist()))       #explore how many columns and name"
   ]
  },
  {
   "cell_type": "code",
   "execution_count": 4,
   "id": "255cd3c5-9eef-43a6-87e9-dcbbefe4a1c4",
   "metadata": {},
   "outputs": [
    {
     "data": {
      "text/html": [
       "<div>\n",
       "<style scoped>\n",
       "    .dataframe tbody tr th:only-of-type {\n",
       "        vertical-align: middle;\n",
       "    }\n",
       "\n",
       "    .dataframe tbody tr th {\n",
       "        vertical-align: top;\n",
       "    }\n",
       "\n",
       "    .dataframe thead th {\n",
       "        text-align: right;\n",
       "    }\n",
       "</style>\n",
       "<table border=\"1\" class=\"dataframe\">\n",
       "  <thead>\n",
       "    <tr style=\"text-align: right;\">\n",
       "      <th></th>\n",
       "      <th>Make</th>\n",
       "      <th>Model</th>\n",
       "      <th>Year</th>\n",
       "      <th>Engine Fuel Type</th>\n",
       "      <th>Engine HP</th>\n",
       "      <th>Engine Cylinders</th>\n",
       "      <th>Transmission Type</th>\n",
       "      <th>Driven_Wheels</th>\n",
       "      <th>Number of Doors</th>\n",
       "      <th>Market Category</th>\n",
       "      <th>Vehicle Size</th>\n",
       "      <th>Vehicle Style</th>\n",
       "      <th>highway MPG</th>\n",
       "      <th>city mpg</th>\n",
       "      <th>Popularity</th>\n",
       "      <th>MSRP</th>\n",
       "    </tr>\n",
       "  </thead>\n",
       "  <tbody>\n",
       "    <tr>\n",
       "      <th>10352</th>\n",
       "      <td>GMC</td>\n",
       "      <td>Terrain</td>\n",
       "      <td>2016</td>\n",
       "      <td>regular unleaded</td>\n",
       "      <td>182.0</td>\n",
       "      <td>4.0</td>\n",
       "      <td>AUTOMATIC</td>\n",
       "      <td>front wheel drive</td>\n",
       "      <td>4.0</td>\n",
       "      <td>Crossover</td>\n",
       "      <td>Compact</td>\n",
       "      <td>4dr SUV</td>\n",
       "      <td>32</td>\n",
       "      <td>22</td>\n",
       "      <td>549</td>\n",
       "      <td>30620</td>\n",
       "    </tr>\n",
       "    <tr>\n",
       "      <th>10666</th>\n",
       "      <td>Ford</td>\n",
       "      <td>Transit Connect</td>\n",
       "      <td>2016</td>\n",
       "      <td>regular unleaded</td>\n",
       "      <td>169.0</td>\n",
       "      <td>4.0</td>\n",
       "      <td>AUTOMATIC</td>\n",
       "      <td>front wheel drive</td>\n",
       "      <td>4.0</td>\n",
       "      <td>NaN</td>\n",
       "      <td>Compact</td>\n",
       "      <td>Passenger Minivan</td>\n",
       "      <td>28</td>\n",
       "      <td>20</td>\n",
       "      <td>5657</td>\n",
       "      <td>26825</td>\n",
       "    </tr>\n",
       "    <tr>\n",
       "      <th>1600</th>\n",
       "      <td>Toyota</td>\n",
       "      <td>Avalon</td>\n",
       "      <td>2016</td>\n",
       "      <td>regular unleaded</td>\n",
       "      <td>268.0</td>\n",
       "      <td>6.0</td>\n",
       "      <td>AUTOMATIC</td>\n",
       "      <td>front wheel drive</td>\n",
       "      <td>4.0</td>\n",
       "      <td>Performance</td>\n",
       "      <td>Midsize</td>\n",
       "      <td>Sedan</td>\n",
       "      <td>31</td>\n",
       "      <td>21</td>\n",
       "      <td>2031</td>\n",
       "      <td>37050</td>\n",
       "    </tr>\n",
       "    <tr>\n",
       "      <th>5594</th>\n",
       "      <td>Nissan</td>\n",
       "      <td>GT-R</td>\n",
       "      <td>2015</td>\n",
       "      <td>premium unleaded (recommended)</td>\n",
       "      <td>545.0</td>\n",
       "      <td>6.0</td>\n",
       "      <td>AUTOMATED_MANUAL</td>\n",
       "      <td>all wheel drive</td>\n",
       "      <td>2.0</td>\n",
       "      <td>High-Performance</td>\n",
       "      <td>Midsize</td>\n",
       "      <td>Coupe</td>\n",
       "      <td>23</td>\n",
       "      <td>16</td>\n",
       "      <td>2009</td>\n",
       "      <td>111510</td>\n",
       "    </tr>\n",
       "    <tr>\n",
       "      <th>4562</th>\n",
       "      <td>Ford</td>\n",
       "      <td>F-150</td>\n",
       "      <td>2017</td>\n",
       "      <td>flex-fuel (unleaded/E85)</td>\n",
       "      <td>282.0</td>\n",
       "      <td>6.0</td>\n",
       "      <td>AUTOMATIC</td>\n",
       "      <td>rear wheel drive</td>\n",
       "      <td>2.0</td>\n",
       "      <td>Flex Fuel</td>\n",
       "      <td>Large</td>\n",
       "      <td>Regular Cab Pickup</td>\n",
       "      <td>25</td>\n",
       "      <td>18</td>\n",
       "      <td>5657</td>\n",
       "      <td>31905</td>\n",
       "    </tr>\n",
       "  </tbody>\n",
       "</table>\n",
       "</div>"
      ],
      "text/plain": [
       "         Make            Model  Year                Engine Fuel Type  \\\n",
       "10352     GMC          Terrain  2016                regular unleaded   \n",
       "10666    Ford  Transit Connect  2016                regular unleaded   \n",
       "1600   Toyota           Avalon  2016                regular unleaded   \n",
       "5594   Nissan             GT-R  2015  premium unleaded (recommended)   \n",
       "4562     Ford            F-150  2017        flex-fuel (unleaded/E85)   \n",
       "\n",
       "       Engine HP  Engine Cylinders Transmission Type      Driven_Wheels  \\\n",
       "10352      182.0               4.0         AUTOMATIC  front wheel drive   \n",
       "10666      169.0               4.0         AUTOMATIC  front wheel drive   \n",
       "1600       268.0               6.0         AUTOMATIC  front wheel drive   \n",
       "5594       545.0               6.0  AUTOMATED_MANUAL    all wheel drive   \n",
       "4562       282.0               6.0         AUTOMATIC   rear wheel drive   \n",
       "\n",
       "       Number of Doors   Market Category Vehicle Size       Vehicle Style  \\\n",
       "10352              4.0         Crossover      Compact             4dr SUV   \n",
       "10666              4.0               NaN      Compact   Passenger Minivan   \n",
       "1600               4.0       Performance      Midsize               Sedan   \n",
       "5594               2.0  High-Performance      Midsize               Coupe   \n",
       "4562               2.0         Flex Fuel        Large  Regular Cab Pickup   \n",
       "\n",
       "       highway MPG  city mpg  Popularity    MSRP  \n",
       "10352           32        22         549   30620  \n",
       "10666           28        20        5657   26825  \n",
       "1600            31        21        2031   37050  \n",
       "5594            23        16        2009  111510  \n",
       "4562            25        18        5657   31905  "
      ]
     },
     "execution_count": 4,
     "metadata": {},
     "output_type": "execute_result"
    }
   ],
   "source": [
    "df.sample(5)     #explore 5 random columns"
   ]
  },
  {
   "cell_type": "code",
   "execution_count": 5,
   "id": "2a063bae-ee18-44c3-8a2f-d9a664a2625c",
   "metadata": {},
   "outputs": [
    {
     "data": {
      "text/plain": [
       "Make                  object\n",
       "Model                 object\n",
       "Year                   int64\n",
       "Engine Fuel Type      object\n",
       "Engine HP            float64\n",
       "Engine Cylinders     float64\n",
       "Transmission Type     object\n",
       "Driven_Wheels         object\n",
       "Number of Doors      float64\n",
       "Market Category       object\n",
       "Vehicle Size          object\n",
       "Vehicle Style         object\n",
       "highway MPG            int64\n",
       "city mpg               int64\n",
       "Popularity             int64\n",
       "MSRP                   int64\n",
       "dtype: object"
      ]
     },
     "execution_count": 5,
     "metadata": {},
     "output_type": "execute_result"
    }
   ],
   "source": [
    "df.dtypes"
   ]
  },
  {
   "cell_type": "markdown",
   "id": "71486c41-63b2-47f5-9758-ef99dbcde0b8",
   "metadata": {},
   "source": [
    "<span style=\"background-color: lightblue; color: BLACK;font-size: 18px;\">3. Dropping unnecessary columns </span>"
   ]
  },
  {
   "cell_type": "code",
   "execution_count": 6,
   "id": "552e0e9a-4331-41e1-a307-13f56d118a27",
   "metadata": {},
   "outputs": [
    {
     "data": {
      "text/html": [
       "<div>\n",
       "<style scoped>\n",
       "    .dataframe tbody tr th:only-of-type {\n",
       "        vertical-align: middle;\n",
       "    }\n",
       "\n",
       "    .dataframe tbody tr th {\n",
       "        vertical-align: top;\n",
       "    }\n",
       "\n",
       "    .dataframe thead th {\n",
       "        text-align: right;\n",
       "    }\n",
       "</style>\n",
       "<table border=\"1\" class=\"dataframe\">\n",
       "  <thead>\n",
       "    <tr style=\"text-align: right;\">\n",
       "      <th></th>\n",
       "      <th>Make</th>\n",
       "      <th>Model</th>\n",
       "      <th>Year</th>\n",
       "      <th>Engine HP</th>\n",
       "      <th>Engine Cylinders</th>\n",
       "      <th>Transmission Type</th>\n",
       "      <th>Driven_Wheels</th>\n",
       "      <th>highway MPG</th>\n",
       "      <th>city mpg</th>\n",
       "      <th>MSRP</th>\n",
       "    </tr>\n",
       "  </thead>\n",
       "  <tbody>\n",
       "    <tr>\n",
       "      <th>0</th>\n",
       "      <td>BMW</td>\n",
       "      <td>1 Series M</td>\n",
       "      <td>2011</td>\n",
       "      <td>335.0</td>\n",
       "      <td>6.0</td>\n",
       "      <td>MANUAL</td>\n",
       "      <td>rear wheel drive</td>\n",
       "      <td>26</td>\n",
       "      <td>19</td>\n",
       "      <td>46135</td>\n",
       "    </tr>\n",
       "    <tr>\n",
       "      <th>1</th>\n",
       "      <td>BMW</td>\n",
       "      <td>1 Series</td>\n",
       "      <td>2011</td>\n",
       "      <td>300.0</td>\n",
       "      <td>6.0</td>\n",
       "      <td>MANUAL</td>\n",
       "      <td>rear wheel drive</td>\n",
       "      <td>28</td>\n",
       "      <td>19</td>\n",
       "      <td>40650</td>\n",
       "    </tr>\n",
       "    <tr>\n",
       "      <th>2</th>\n",
       "      <td>BMW</td>\n",
       "      <td>1 Series</td>\n",
       "      <td>2011</td>\n",
       "      <td>300.0</td>\n",
       "      <td>6.0</td>\n",
       "      <td>MANUAL</td>\n",
       "      <td>rear wheel drive</td>\n",
       "      <td>28</td>\n",
       "      <td>20</td>\n",
       "      <td>36350</td>\n",
       "    </tr>\n",
       "    <tr>\n",
       "      <th>3</th>\n",
       "      <td>BMW</td>\n",
       "      <td>1 Series</td>\n",
       "      <td>2011</td>\n",
       "      <td>230.0</td>\n",
       "      <td>6.0</td>\n",
       "      <td>MANUAL</td>\n",
       "      <td>rear wheel drive</td>\n",
       "      <td>28</td>\n",
       "      <td>18</td>\n",
       "      <td>29450</td>\n",
       "    </tr>\n",
       "    <tr>\n",
       "      <th>4</th>\n",
       "      <td>BMW</td>\n",
       "      <td>1 Series</td>\n",
       "      <td>2011</td>\n",
       "      <td>230.0</td>\n",
       "      <td>6.0</td>\n",
       "      <td>MANUAL</td>\n",
       "      <td>rear wheel drive</td>\n",
       "      <td>28</td>\n",
       "      <td>18</td>\n",
       "      <td>34500</td>\n",
       "    </tr>\n",
       "  </tbody>\n",
       "</table>\n",
       "</div>"
      ],
      "text/plain": [
       "  Make       Model  Year  Engine HP  Engine Cylinders Transmission Type  \\\n",
       "0  BMW  1 Series M  2011      335.0               6.0            MANUAL   \n",
       "1  BMW    1 Series  2011      300.0               6.0            MANUAL   \n",
       "2  BMW    1 Series  2011      300.0               6.0            MANUAL   \n",
       "3  BMW    1 Series  2011      230.0               6.0            MANUAL   \n",
       "4  BMW    1 Series  2011      230.0               6.0            MANUAL   \n",
       "\n",
       "      Driven_Wheels  highway MPG  city mpg   MSRP  \n",
       "0  rear wheel drive           26        19  46135  \n",
       "1  rear wheel drive           28        19  40650  \n",
       "2  rear wheel drive           28        20  36350  \n",
       "3  rear wheel drive           28        18  29450  \n",
       "4  rear wheel drive           28        18  34500  "
      ]
     },
     "execution_count": 6,
     "metadata": {},
     "output_type": "execute_result"
    }
   ],
   "source": [
    "df = df.drop(['Engine Fuel Type', 'Market Category', 'Vehicle Style', 'Popularity', 'Number of Doors', 'Vehicle Size'], axis=1)\n",
    "df.head(5)"
   ]
  },
  {
   "cell_type": "markdown",
   "id": "92cbc8d4-aca5-4b50-b34f-9708a3938145",
   "metadata": {},
   "source": [
    "<span style=\"background-color: lightblue;color: BLACK;font-size: 18px;\">4. Rename columns </span>"
   ]
  },
  {
   "cell_type": "code",
   "execution_count": 7,
   "id": "bf0b171c-0eb7-4ad1-b4b5-0a43dff8673c",
   "metadata": {},
   "outputs": [
    {
     "data": {
      "text/html": [
       "<div>\n",
       "<style scoped>\n",
       "    .dataframe tbody tr th:only-of-type {\n",
       "        vertical-align: middle;\n",
       "    }\n",
       "\n",
       "    .dataframe tbody tr th {\n",
       "        vertical-align: top;\n",
       "    }\n",
       "\n",
       "    .dataframe thead th {\n",
       "        text-align: right;\n",
       "    }\n",
       "</style>\n",
       "<table border=\"1\" class=\"dataframe\">\n",
       "  <thead>\n",
       "    <tr style=\"text-align: right;\">\n",
       "      <th></th>\n",
       "      <th>Make</th>\n",
       "      <th>Model</th>\n",
       "      <th>Year</th>\n",
       "      <th>HP</th>\n",
       "      <th>Cylinders</th>\n",
       "      <th>Transmission</th>\n",
       "      <th>Drive Mode</th>\n",
       "      <th>MPG-H</th>\n",
       "      <th>MPG-C</th>\n",
       "      <th>Price</th>\n",
       "    </tr>\n",
       "  </thead>\n",
       "  <tbody>\n",
       "    <tr>\n",
       "      <th>0</th>\n",
       "      <td>BMW</td>\n",
       "      <td>1 Series M</td>\n",
       "      <td>2011</td>\n",
       "      <td>335.0</td>\n",
       "      <td>6.0</td>\n",
       "      <td>MANUAL</td>\n",
       "      <td>rear wheel drive</td>\n",
       "      <td>26</td>\n",
       "      <td>19</td>\n",
       "      <td>46135</td>\n",
       "    </tr>\n",
       "    <tr>\n",
       "      <th>1</th>\n",
       "      <td>BMW</td>\n",
       "      <td>1 Series</td>\n",
       "      <td>2011</td>\n",
       "      <td>300.0</td>\n",
       "      <td>6.0</td>\n",
       "      <td>MANUAL</td>\n",
       "      <td>rear wheel drive</td>\n",
       "      <td>28</td>\n",
       "      <td>19</td>\n",
       "      <td>40650</td>\n",
       "    </tr>\n",
       "    <tr>\n",
       "      <th>2</th>\n",
       "      <td>BMW</td>\n",
       "      <td>1 Series</td>\n",
       "      <td>2011</td>\n",
       "      <td>300.0</td>\n",
       "      <td>6.0</td>\n",
       "      <td>MANUAL</td>\n",
       "      <td>rear wheel drive</td>\n",
       "      <td>28</td>\n",
       "      <td>20</td>\n",
       "      <td>36350</td>\n",
       "    </tr>\n",
       "    <tr>\n",
       "      <th>3</th>\n",
       "      <td>BMW</td>\n",
       "      <td>1 Series</td>\n",
       "      <td>2011</td>\n",
       "      <td>230.0</td>\n",
       "      <td>6.0</td>\n",
       "      <td>MANUAL</td>\n",
       "      <td>rear wheel drive</td>\n",
       "      <td>28</td>\n",
       "      <td>18</td>\n",
       "      <td>29450</td>\n",
       "    </tr>\n",
       "    <tr>\n",
       "      <th>4</th>\n",
       "      <td>BMW</td>\n",
       "      <td>1 Series</td>\n",
       "      <td>2011</td>\n",
       "      <td>230.0</td>\n",
       "      <td>6.0</td>\n",
       "      <td>MANUAL</td>\n",
       "      <td>rear wheel drive</td>\n",
       "      <td>28</td>\n",
       "      <td>18</td>\n",
       "      <td>34500</td>\n",
       "    </tr>\n",
       "  </tbody>\n",
       "</table>\n",
       "</div>"
      ],
      "text/plain": [
       "  Make       Model  Year     HP  Cylinders Transmission        Drive Mode  \\\n",
       "0  BMW  1 Series M  2011  335.0        6.0       MANUAL  rear wheel drive   \n",
       "1  BMW    1 Series  2011  300.0        6.0       MANUAL  rear wheel drive   \n",
       "2  BMW    1 Series  2011  300.0        6.0       MANUAL  rear wheel drive   \n",
       "3  BMW    1 Series  2011  230.0        6.0       MANUAL  rear wheel drive   \n",
       "4  BMW    1 Series  2011  230.0        6.0       MANUAL  rear wheel drive   \n",
       "\n",
       "   MPG-H  MPG-C  Price  \n",
       "0     26     19  46135  \n",
       "1     28     19  40650  \n",
       "2     28     20  36350  \n",
       "3     28     18  29450  \n",
       "4     28     18  34500  "
      ]
     },
     "execution_count": 7,
     "metadata": {},
     "output_type": "execute_result"
    }
   ],
   "source": [
    "df = df.rename(columns={\"Engine HP\": \"HP\", \"Engine Cylinders\": \"Cylinders\", \"Transmission Type\": \"Transmission\", \"Driven_Wheels\": \"Drive Mode\",\"highway MPG\": \"MPG-H\", \"city mpg\": \"MPG-C\", \"MSRP\": \"Price\" })\n",
    "df.head(5)"
   ]
  },
  {
   "cell_type": "code",
   "execution_count": 8,
   "id": "454dbb83-da11-40d2-b7ff-233fc5dcf90b",
   "metadata": {},
   "outputs": [
    {
     "data": {
      "text/plain": [
       "Make            11914\n",
       "Model           11914\n",
       "Year            11914\n",
       "HP              11845\n",
       "Cylinders       11884\n",
       "Transmission    11914\n",
       "Drive Mode      11914\n",
       "MPG-H           11914\n",
       "MPG-C           11914\n",
       "Price           11914\n",
       "dtype: int64"
      ]
     },
     "execution_count": 8,
     "metadata": {},
     "output_type": "execute_result"
    }
   ],
   "source": [
    "df.count()  "
   ]
  },
  {
   "cell_type": "markdown",
   "id": "c64552a8-3dba-40ca-ba2f-63038dff2e33",
   "metadata": {},
   "source": [
    "<span style=\"background-color: lightblue;color: BLACK;font-size: 18px;\">5. Removing duplicates  </span>"
   ]
  },
  {
   "cell_type": "markdown",
   "id": "e025c56a-9013-49fa-8b46-bae0d5af2d8f",
   "metadata": {},
   "source": [
    "<span style=\"background-color: yellow; color: BLACK;font-size: 18px;\"> New Code </span>\n"
   ]
  },
  {
   "cell_type": "code",
   "execution_count": null,
   "id": "5c26224e-6c87-4f09-a6bf-507e87a4af4c",
   "metadata": {},
   "outputs": [],
   "source": [
    "print(duplicate_rows_df)\n"
   ]
  },
  {
   "cell_type": "code",
   "execution_count": 9,
   "id": "715af364-81a9-4f19-bcf3-dec4013e17e1",
   "metadata": {},
   "outputs": [
    {
     "name": "stdout",
     "output_type": "stream",
     "text": [
      "         Make     Model  Year     HP  Cylinders Transmission  \\\n",
      "14        BMW  1 Series  2013  230.0        6.0       MANUAL   \n",
      "18       Audi       100  1992  172.0        6.0       MANUAL   \n",
      "20       Audi       100  1992  172.0        6.0       MANUAL   \n",
      "24       Audi       100  1993  172.0        6.0       MANUAL   \n",
      "25       Audi       100  1993  172.0        6.0       MANUAL   \n",
      "...       ...       ...   ...    ...        ...          ...   \n",
      "11481  Suzuki      X-90  1998   95.0        4.0       MANUAL   \n",
      "11603   Volvo      XC60  2017  302.0        4.0    AUTOMATIC   \n",
      "11604   Volvo      XC60  2017  240.0        4.0    AUTOMATIC   \n",
      "11708  Suzuki       XL7  2008  252.0        6.0    AUTOMATIC   \n",
      "11717  Suzuki       XL7  2008  252.0        6.0    AUTOMATIC   \n",
      "\n",
      "              Drive Mode  MPG-H  MPG-C  Price  \n",
      "14      rear wheel drive     28     19  31500  \n",
      "18     front wheel drive     24     17   2000  \n",
      "20     front wheel drive     24     17   2000  \n",
      "24     front wheel drive     24     17   2000  \n",
      "25     front wheel drive     24     17   2000  \n",
      "...                  ...    ...    ...    ...  \n",
      "11481   four wheel drive     26     22   2000  \n",
      "11603    all wheel drive     29     20  46350  \n",
      "11604  front wheel drive     30     23  40950  \n",
      "11708    all wheel drive     22     15  29149  \n",
      "11717  front wheel drive     22     16  27499  \n",
      "\n",
      "[989 rows x 10 columns]\n"
     ]
    }
   ],
   "source": [
    "df.shape\n",
    "duplicate_rows_df = df[df.duplicated()]\n",
    "print(duplicate_rows_df)\n"
   ]
  },
  {
   "cell_type": "code",
   "execution_count": 10,
   "id": "cae47dcd-0f54-4fa7-baaf-d7c58edfbdcd",
   "metadata": {},
   "outputs": [
    {
     "name": "stdout",
     "output_type": "stream",
     "text": [
      "number of duplicate rows:  (989, 10)\n"
     ]
    }
   ],
   "source": [
    "print(\"number of duplicate rows: \", duplicate_rows_df.shape)"
   ]
  },
  {
   "cell_type": "code",
   "execution_count": 11,
   "id": "b7823cf0-47a5-479e-ba80-76c2251d7202",
   "metadata": {},
   "outputs": [
    {
     "data": {
      "text/plain": [
       "Make            11914\n",
       "Model           11914\n",
       "Year            11914\n",
       "HP              11845\n",
       "Cylinders       11884\n",
       "Transmission    11914\n",
       "Drive Mode      11914\n",
       "MPG-H           11914\n",
       "MPG-C           11914\n",
       "Price           11914\n",
       "dtype: int64"
      ]
     },
     "execution_count": 11,
     "metadata": {},
     "output_type": "execute_result"
    }
   ],
   "source": [
    "df.count()  "
   ]
  },
  {
   "cell_type": "code",
   "execution_count": 12,
   "id": "b00d79d0-f027-467d-aef3-f8bc12e4f476",
   "metadata": {},
   "outputs": [
    {
     "data": {
      "text/html": [
       "<div>\n",
       "<style scoped>\n",
       "    .dataframe tbody tr th:only-of-type {\n",
       "        vertical-align: middle;\n",
       "    }\n",
       "\n",
       "    .dataframe tbody tr th {\n",
       "        vertical-align: top;\n",
       "    }\n",
       "\n",
       "    .dataframe thead th {\n",
       "        text-align: right;\n",
       "    }\n",
       "</style>\n",
       "<table border=\"1\" class=\"dataframe\">\n",
       "  <thead>\n",
       "    <tr style=\"text-align: right;\">\n",
       "      <th></th>\n",
       "      <th>Make</th>\n",
       "      <th>Model</th>\n",
       "      <th>Year</th>\n",
       "      <th>HP</th>\n",
       "      <th>Cylinders</th>\n",
       "      <th>Transmission</th>\n",
       "      <th>Drive Mode</th>\n",
       "      <th>MPG-H</th>\n",
       "      <th>MPG-C</th>\n",
       "      <th>Price</th>\n",
       "    </tr>\n",
       "  </thead>\n",
       "  <tbody>\n",
       "    <tr>\n",
       "      <th>0</th>\n",
       "      <td>BMW</td>\n",
       "      <td>1 Series M</td>\n",
       "      <td>2011</td>\n",
       "      <td>335.0</td>\n",
       "      <td>6.0</td>\n",
       "      <td>MANUAL</td>\n",
       "      <td>rear wheel drive</td>\n",
       "      <td>26</td>\n",
       "      <td>19</td>\n",
       "      <td>46135</td>\n",
       "    </tr>\n",
       "    <tr>\n",
       "      <th>1</th>\n",
       "      <td>BMW</td>\n",
       "      <td>1 Series</td>\n",
       "      <td>2011</td>\n",
       "      <td>300.0</td>\n",
       "      <td>6.0</td>\n",
       "      <td>MANUAL</td>\n",
       "      <td>rear wheel drive</td>\n",
       "      <td>28</td>\n",
       "      <td>19</td>\n",
       "      <td>40650</td>\n",
       "    </tr>\n",
       "    <tr>\n",
       "      <th>2</th>\n",
       "      <td>BMW</td>\n",
       "      <td>1 Series</td>\n",
       "      <td>2011</td>\n",
       "      <td>300.0</td>\n",
       "      <td>6.0</td>\n",
       "      <td>MANUAL</td>\n",
       "      <td>rear wheel drive</td>\n",
       "      <td>28</td>\n",
       "      <td>20</td>\n",
       "      <td>36350</td>\n",
       "    </tr>\n",
       "    <tr>\n",
       "      <th>3</th>\n",
       "      <td>BMW</td>\n",
       "      <td>1 Series</td>\n",
       "      <td>2011</td>\n",
       "      <td>230.0</td>\n",
       "      <td>6.0</td>\n",
       "      <td>MANUAL</td>\n",
       "      <td>rear wheel drive</td>\n",
       "      <td>28</td>\n",
       "      <td>18</td>\n",
       "      <td>29450</td>\n",
       "    </tr>\n",
       "    <tr>\n",
       "      <th>4</th>\n",
       "      <td>BMW</td>\n",
       "      <td>1 Series</td>\n",
       "      <td>2011</td>\n",
       "      <td>230.0</td>\n",
       "      <td>6.0</td>\n",
       "      <td>MANUAL</td>\n",
       "      <td>rear wheel drive</td>\n",
       "      <td>28</td>\n",
       "      <td>18</td>\n",
       "      <td>34500</td>\n",
       "    </tr>\n",
       "  </tbody>\n",
       "</table>\n",
       "</div>"
      ],
      "text/plain": [
       "  Make       Model  Year     HP  Cylinders Transmission        Drive Mode  \\\n",
       "0  BMW  1 Series M  2011  335.0        6.0       MANUAL  rear wheel drive   \n",
       "1  BMW    1 Series  2011  300.0        6.0       MANUAL  rear wheel drive   \n",
       "2  BMW    1 Series  2011  300.0        6.0       MANUAL  rear wheel drive   \n",
       "3  BMW    1 Series  2011  230.0        6.0       MANUAL  rear wheel drive   \n",
       "4  BMW    1 Series  2011  230.0        6.0       MANUAL  rear wheel drive   \n",
       "\n",
       "   MPG-H  MPG-C  Price  \n",
       "0     26     19  46135  \n",
       "1     28     19  40650  \n",
       "2     28     20  36350  \n",
       "3     28     18  29450  \n",
       "4     28     18  34500  "
      ]
     },
     "execution_count": 12,
     "metadata": {},
     "output_type": "execute_result"
    }
   ],
   "source": [
    "df = df.drop_duplicates()\n",
    "df.head(5)"
   ]
  },
  {
   "cell_type": "code",
   "execution_count": 13,
   "id": "adaf936d-114a-4594-8fe7-c35fd0aa273d",
   "metadata": {},
   "outputs": [
    {
     "data": {
      "text/plain": [
       "Make            10925\n",
       "Model           10925\n",
       "Year            10925\n",
       "HP              10856\n",
       "Cylinders       10895\n",
       "Transmission    10925\n",
       "Drive Mode      10925\n",
       "MPG-H           10925\n",
       "MPG-C           10925\n",
       "Price           10925\n",
       "dtype: int64"
      ]
     },
     "execution_count": 13,
     "metadata": {},
     "output_type": "execute_result"
    }
   ],
   "source": [
    "df.count()"
   ]
  },
  {
   "cell_type": "markdown",
   "id": "88129a6a-0a0e-4d61-bdb8-8a18e7007cce",
   "metadata": {},
   "source": [
    "<span style=\"background-color: lightblue;color: BLACK;font-size: 18px;\">6. Droppping Missing Values  </span>"
   ]
  },
  {
   "cell_type": "code",
   "execution_count": 14,
   "id": "6355d3dd-426e-4fb2-8c6f-6037dbdd15f6",
   "metadata": {},
   "outputs": [
    {
     "name": "stdout",
     "output_type": "stream",
     "text": [
      "Make             0\n",
      "Model            0\n",
      "Year             0\n",
      "HP              69\n",
      "Cylinders       30\n",
      "Transmission     0\n",
      "Drive Mode       0\n",
      "MPG-H            0\n",
      "MPG-C            0\n",
      "Price            0\n",
      "dtype: int64\n"
     ]
    }
   ],
   "source": [
    "print(df.isnull().sum())  "
   ]
  },
  {
   "cell_type": "code",
   "execution_count": 15,
   "id": "8e6eb22f-72fd-4cc7-b94f-75078a771c58",
   "metadata": {},
   "outputs": [
    {
     "data": {
      "text/plain": [
       "Make            10827\n",
       "Model           10827\n",
       "Year            10827\n",
       "HP              10827\n",
       "Cylinders       10827\n",
       "Transmission    10827\n",
       "Drive Mode      10827\n",
       "MPG-H           10827\n",
       "MPG-C           10827\n",
       "Price           10827\n",
       "dtype: int64"
      ]
     },
     "execution_count": 15,
     "metadata": {},
     "output_type": "execute_result"
    }
   ],
   "source": [
    "df = df.dropna()    # Dropping the missing values.\n",
    "df.count()"
   ]
  },
  {
   "cell_type": "code",
   "execution_count": 16,
   "id": "da4fe216-9a8f-4868-b562-5508196bbccf",
   "metadata": {},
   "outputs": [
    {
     "name": "stdout",
     "output_type": "stream",
     "text": [
      "Make            0\n",
      "Model           0\n",
      "Year            0\n",
      "HP              0\n",
      "Cylinders       0\n",
      "Transmission    0\n",
      "Drive Mode      0\n",
      "MPG-H           0\n",
      "MPG-C           0\n",
      "Price           0\n",
      "dtype: int64\n"
     ]
    }
   ],
   "source": [
    "print(df.isnull().sum()) "
   ]
  },
  {
   "cell_type": "markdown",
   "id": "945079b1-72fd-44c7-bb4c-ae512da801b0",
   "metadata": {},
   "source": [
    "<span style=\"background-color: lightblue;color: BLACK;font-size: 18px;\"> 7. Plotting visualization  </span>"
   ]
  },
  {
   "cell_type": "markdown",
   "id": "fd1bdae0-8309-4ff6-b721-387aa0bfa341",
   "metadata": {},
   "source": [
    "<span style=\"background-color: yellow; color: BLACK;font-size: 18px;\"> New Code </span>\n"
   ]
  },
  {
   "cell_type": "code",
   "execution_count": 17,
   "id": "c58a8ede-b042-4dda-8a38-4071a79529bd",
   "metadata": {},
   "outputs": [
    {
     "name": "stdout",
     "output_type": "stream",
     "text": [
      "Make\n",
      "Chevrolet        1043\n",
      "Ford              798\n",
      "Toyota            651\n",
      "Volkswagen        563\n",
      "Nissan            540\n",
      "Dodge             513\n",
      "GMC               475\n",
      "Honda             429\n",
      "Cadillac          396\n",
      "Mazda             392\n",
      "Mercedes-Benz     340\n",
      "Suzuki            338\n",
      "Infiniti          326\n",
      "BMW               324\n",
      "Audi              320\n",
      "Hyundai           254\n",
      "Acura             246\n",
      "Volvo             241\n",
      "Subaru            229\n",
      "Kia               219\n",
      "Mitsubishi        202\n",
      "Lexus             201\n",
      "Chrysler          185\n",
      "Buick             184\n",
      "Pontiac           163\n",
      "Lincoln           152\n",
      "Porsche           134\n",
      "Land Rover        126\n",
      "Oldsmobile        111\n",
      "Saab              101\n",
      "Aston Martin       91\n",
      "Bentley            74\n",
      "Ferrari            69\n",
      "Plymouth           62\n",
      "Scion              60\n",
      "FIAT               58\n",
      "Maserati           55\n",
      "Lamborghini        52\n",
      "Rolls-Royce        31\n",
      "Lotus              28\n",
      "HUMMER             17\n",
      "Maybach            16\n",
      "Alfa Romeo          5\n",
      "McLaren             5\n",
      "Genesis             3\n",
      "Bugatti             3\n",
      "Spyker              2\n",
      "Name: count, dtype: int64\n"
     ]
    },
    {
     "data": {
      "image/png": "[encoded data removed]",
      "text/plain": [
       "<Figure size 1000x600 with 1 Axes>"
      ]
     },
     "metadata": {},
     "output_type": "display_data"
    }
   ],
   "source": [
    "make_counts = df['Make'].value_counts()\n",
    "print(make_counts)\n",
    "\n",
    "# Plot the bar chart\n",
    "make_counts = df['Make'].value_counts().head(10)\n",
    "bar_chart = make_counts.plot(kind='bar', figsize=(10, 6))\n",
    "plt.title(\"Counts of Each Make\")\n",
    "plt.xlabel(\"Make\")\n",
    "plt.ylabel(\"Count\")\n",
    "plt.xticks(rotation=45)\n",
    "bar_chart.yaxis.set_visible(False)\n",
    "for i, v in enumerate(make_counts):\n",
    "    bar_chart.text(i, v + 0.5, str(v), ha='center', va='bottom')  # Adjust label position\n",
    "plt.show()"
   ]
  },
  {
   "cell_type": "markdown",
   "id": "0eeea432-4fed-4ce5-9524-860f91ccc569",
   "metadata": {},
   "source": [
    "<span style=\"background-color: yellow; color: BLACK;font-size: 18px;\"> New Code </span>\n"
   ]
  },
  {
   "cell_type": "code",
   "execution_count": 18,
   "id": "6e2bae6c-e12f-44b1-9a40-9dbb6ff9b502",
   "metadata": {},
   "outputs": [
    {
     "name": "stdout",
     "output_type": "stream",
     "text": [
      "Model\n",
      "Silverado 1500    156\n",
      "F-150             126\n",
      "Sierra 1500        90\n",
      "Tundra             78\n",
      "Frontier           76\n",
      "                 ... \n",
      "650S Coupe          1\n",
      "570S                1\n",
      "XC                  1\n",
      "1 Series M          1\n",
      "Zephyr              1\n",
      "Name: count, Length: 904, dtype: int64\n"
     ]
    },
    {
     "data": {
      "image/png": "[encoded data removed]",
      "text/plain": [
       "<Figure size 1000x600 with 1 Axes>"
      ]
     },
     "metadata": {},
     "output_type": "display_data"
    }
   ],
   "source": [
    "model_counts = df['Model'].value_counts()\n",
    "print(model_counts)\n",
    "\n",
    "# Plot the bar chart\n",
    "model_counts = df['Model'].value_counts().head(10)\n",
    "bar_chart = model_counts.plot(kind='bar', figsize=(10, 6))\n",
    "plt.title(\"Counts of Each Model\")\n",
    "plt.xlabel(\"Model\")\n",
    "plt.ylabel(\"Count\")\n",
    "plt.xticks(rotation=45)\n",
    "bar_chart.yaxis.set_visible(False)\n",
    "for i, v in enumerate(model_counts):\n",
    "    bar_chart.text(i, v + 0.5, str(v), ha='center', va='bottom')  # Adjust label position\n",
    "plt.show()"
   ]
  },
  {
   "cell_type": "markdown",
   "id": "02561570-a228-4ed5-a67c-12caf6e0f1b9",
   "metadata": {},
   "source": [
    "<span style=\"background-color: yellow; color: BLACK;font-size: 18px;\"> New Code </span>\n"
   ]
  },
  {
   "cell_type": "code",
   "execution_count": 19,
   "id": "09dce1e0-8014-4000-a242-258dbe40e2da",
   "metadata": {},
   "outputs": [
    {
     "name": "stdout",
     "output_type": "stream",
     "text": [
      "Year\n",
      "2015    2029\n",
      "2016    2022\n",
      "2017    1580\n",
      "2014     530\n",
      "2012     350\n",
      "2009     349\n",
      "2007     332\n",
      "2013     320\n",
      "2008     316\n",
      "2011     278\n",
      "2010     272\n",
      "2003     233\n",
      "2004     230\n",
      "2005     205\n",
      "2002     203\n",
      "2006     194\n",
      "2001     168\n",
      "1997     148\n",
      "1998     143\n",
      "1993     135\n",
      "2000     114\n",
      "1999     111\n",
      "1994     109\n",
      "1992     104\n",
      "1995     103\n",
      "1996      98\n",
      "1991      84\n",
      "1990      67\n",
      "Name: count, dtype: int64\n"
     ]
    },
    {
     "data": {
      "image/png": "[encoded data removed]",
      "text/plain": [
       "<Figure size 1000x600 with 1 Axes>"
      ]
     },
     "metadata": {},
     "output_type": "display_data"
    }
   ],
   "source": [
    "year_counts = df['Year'].value_counts()\n",
    "print(year_counts)\n",
    "\n",
    "# Plot the bar chart\n",
    "year_counts = df['Year'].value_counts()\n",
    "bar_chart = year_counts.plot(kind='bar', figsize=(10, 6))\n",
    "plt.title(\"Counts of Years\")\n",
    "plt.xlabel(\"Years\")\n",
    "plt.ylabel(\"Count\")\n",
    "plt.xticks(rotation=45)\n",
    "plt.show()"
   ]
  },
  {
   "cell_type": "code",
   "execution_count": 20,
   "id": "2660e4d2-ab5e-4632-bda0-1c0580af3862",
   "metadata": {},
   "outputs": [
    {
     "data": {
      "text/plain": [
       "<Axes: xlabel='Price'>"
      ]
     },
     "execution_count": 20,
     "metadata": {},
     "output_type": "execute_result"
    },
    {
     "data": {
      "image/png": "[encoded data removed]",
      "text/plain": [
       "<Figure size 640x480 with 1 Axes>"
      ]
     },
     "metadata": {},
     "output_type": "display_data"
    }
   ],
   "source": [
    "sns.boxplot(x=df['Price'])"
   ]
  },
  {
   "cell_type": "markdown",
   "id": "97aa70a2-f94a-4360-b3a2-7a81eb2a3b3c",
   "metadata": {},
   "source": [
    "<span style=\"background-color: yellow; color: BLACK;font-size: 18px;\"> New Code </span>\n"
   ]
  },
  {
   "cell_type": "code",
   "execution_count": 21,
   "id": "865de8d7-30c4-41bd-9478-69f8a4afd36e",
   "metadata": {},
   "outputs": [
    {
     "data": {
      "text/plain": [
       "<Axes: xlabel='HP'>"
      ]
     },
     "execution_count": 21,
     "metadata": {},
     "output_type": "execute_result"
    },
    {
     "data": {
      "image/png": "[encoded data removed]",
      "text/plain": [
       "<Figure size 640x480 with 1 Axes>"
      ]
     },
     "metadata": {},
     "output_type": "display_data"
    }
   ],
   "source": [
    "sns.boxplot(x=df['HP'])"
   ]
  },
  {
   "cell_type": "markdown",
   "id": "480c6ff6-9f6d-4834-8ac2-10fd17063998",
   "metadata": {},
   "source": [
    "<span style=\"background-color: yellow; color: BLACK;font-size: 18px;\"> New Code </span>\n"
   ]
  },
  {
   "cell_type": "code",
   "execution_count": 22,
   "id": "35984e17-b1fd-4359-8321-4b7786b0008b",
   "metadata": {},
   "outputs": [
    {
     "data": {
      "text/plain": [
       "<Axes: xlabel='Cylinders'>"
      ]
     },
     "execution_count": 22,
     "metadata": {},
     "output_type": "execute_result"
    },
    {
     "data": {
      "image/png": "[encoded data removed]",
      "text/plain": [
       "<Figure size 640x480 with 1 Axes>"
      ]
     },
     "metadata": {},
     "output_type": "display_data"
    }
   ],
   "source": [
    "sns.boxplot(x=df['Cylinders'])"
   ]
  },
  {
   "cell_type": "code",
   "execution_count": 24,
   "id": "05b49cdd-32fe-455d-be3e-77fb9362c016",
   "metadata": {},
   "outputs": [
    {
     "data": {
      "text/plain": [
       "Make             object\n",
       "Model            object\n",
       "Year              int64\n",
       "HP              float64\n",
       "Cylinders       float64\n",
       "Transmission     object\n",
       "Drive Mode       object\n",
       "MPG-H             int64\n",
       "MPG-C             int64\n",
       "Price             int64\n",
       "dtype: object"
      ]
     },
     "execution_count": 24,
     "metadata": {},
     "output_type": "execute_result"
    }
   ],
   "source": [
    "df.dtypes"
   ]
  },
  {
   "cell_type": "code",
   "execution_count": 23,
   "id": "a8b8c058-b107-43b0-b856-2a45fb4cda61",
   "metadata": {},
   "outputs": [],
   "source": [
    "#df.Make.value_counts().nlargest(40).plot(kind='bar', figsize=(10,5))\n",
    "#plt.title(\"Number of cars by make\")\n",
    "#plt.ylabel('Number of cars')\n",
    "#plt.xlabel('Make');"
   ]
  },
  {
   "cell_type": "code",
   "execution_count": 25,
   "id": "625f8796-5234-41b6-9554-0dc11c96277a",
   "metadata": {},
   "outputs": [
    {
     "data": {
      "text/html": [
       "<div>\n",
       "<style scoped>\n",
       "    .dataframe tbody tr th:only-of-type {\n",
       "        vertical-align: middle;\n",
       "    }\n",
       "\n",
       "    .dataframe tbody tr th {\n",
       "        vertical-align: top;\n",
       "    }\n",
       "\n",
       "    .dataframe thead th {\n",
       "        text-align: right;\n",
       "    }\n",
       "</style>\n",
       "<table border=\"1\" class=\"dataframe\">\n",
       "  <thead>\n",
       "    <tr style=\"text-align: right;\">\n",
       "      <th></th>\n",
       "      <th>Year</th>\n",
       "      <th>HP</th>\n",
       "      <th>Cylinders</th>\n",
       "      <th>MPG-H</th>\n",
       "      <th>MPG-C</th>\n",
       "      <th>Price</th>\n",
       "    </tr>\n",
       "  </thead>\n",
       "  <tbody>\n",
       "    <tr>\n",
       "      <th>Year</th>\n",
       "      <td>1.000000</td>\n",
       "      <td>0.314971</td>\n",
       "      <td>-0.050598</td>\n",
       "      <td>0.284237</td>\n",
       "      <td>0.234135</td>\n",
       "      <td>0.196789</td>\n",
       "    </tr>\n",
       "    <tr>\n",
       "      <th>HP</th>\n",
       "      <td>0.314971</td>\n",
       "      <td>1.000000</td>\n",
       "      <td>0.788007</td>\n",
       "      <td>-0.420281</td>\n",
       "      <td>-0.473551</td>\n",
       "      <td>0.659835</td>\n",
       "    </tr>\n",
       "    <tr>\n",
       "      <th>Cylinders</th>\n",
       "      <td>-0.050598</td>\n",
       "      <td>0.788007</td>\n",
       "      <td>1.000000</td>\n",
       "      <td>-0.611576</td>\n",
       "      <td>-0.632407</td>\n",
       "      <td>0.554740</td>\n",
       "    </tr>\n",
       "    <tr>\n",
       "      <th>MPG-H</th>\n",
       "      <td>0.284237</td>\n",
       "      <td>-0.420281</td>\n",
       "      <td>-0.611576</td>\n",
       "      <td>1.000000</td>\n",
       "      <td>0.841229</td>\n",
       "      <td>-0.209150</td>\n",
       "    </tr>\n",
       "    <tr>\n",
       "      <th>MPG-C</th>\n",
       "      <td>0.234135</td>\n",
       "      <td>-0.473551</td>\n",
       "      <td>-0.632407</td>\n",
       "      <td>0.841229</td>\n",
       "      <td>1.000000</td>\n",
       "      <td>-0.234050</td>\n",
       "    </tr>\n",
       "    <tr>\n",
       "      <th>Price</th>\n",
       "      <td>0.196789</td>\n",
       "      <td>0.659835</td>\n",
       "      <td>0.554740</td>\n",
       "      <td>-0.209150</td>\n",
       "      <td>-0.234050</td>\n",
       "      <td>1.000000</td>\n",
       "    </tr>\n",
       "  </tbody>\n",
       "</table>\n",
       "</div>"
      ],
      "text/plain": [
       "               Year        HP  Cylinders     MPG-H     MPG-C     Price\n",
       "Year       1.000000  0.314971  -0.050598  0.284237  0.234135  0.196789\n",
       "HP         0.314971  1.000000   0.788007 -0.420281 -0.473551  0.659835\n",
       "Cylinders -0.050598  0.788007   1.000000 -0.611576 -0.632407  0.554740\n",
       "MPG-H      0.284237 -0.420281  -0.611576  1.000000  0.841229 -0.209150\n",
       "MPG-C      0.234135 -0.473551  -0.632407  0.841229  1.000000 -0.234050\n",
       "Price      0.196789  0.659835   0.554740 -0.209150 -0.234050  1.000000"
      ]
     },
     "execution_count": 25,
     "metadata": {},
     "output_type": "execute_result"
    },
    {
     "data": {
      "image/png": "[encoded data removed]",
      "text/plain": [
       "<Figure size 1000x500 with 2 Axes>"
      ]
     },
     "metadata": {},
     "output_type": "display_data"
    }
   ],
   "source": [
    "df_numeric = df.select_dtypes(include=['number'])\n",
    "plt.figure(figsize=(10,5))\n",
    "c= df_numeric.corr()\n",
    "sns.heatmap(c,cmap=\"BrBG\",annot=True)\n",
    "c"
   ]
  },
  {
   "cell_type": "code",
   "execution_count": 26,
   "id": "7222d09d-3af8-464f-b9b4-8ebaeaf0bed1",
   "metadata": {},
   "outputs": [
    {
     "data": {
      "image/png": "[encoded data removed]",
      "text/plain": [
       "<Figure size 1000x600 with 1 Axes>"
      ]
     },
     "metadata": {},
     "output_type": "display_data"
    }
   ],
   "source": [
    "fig, ax = plt.subplots(figsize=(10,6))\n",
    "ax.scatter(df['HP'], df['Price'])\n",
    "ax.set_xlabel('HP')\n",
    "ax.set_ylabel('Price')\n",
    "plt.show()\n"
   ]
  },
  {
   "cell_type": "markdown",
   "id": "785bf6a3-bace-4b6b-8b3c-f6d7cfa04e3a",
   "metadata": {},
   "source": [
    "<span style=\"background-color: yellow; color: BLACK;font-size: 18px;\"> New Code </span>\n"
   ]
  },
  {
   "cell_type": "code",
   "execution_count": 27,
   "id": "5ecb2b73-3afe-40d4-b6a9-30d833d5aa6a",
   "metadata": {},
   "outputs": [
    {
     "data": {
      "image/png": "[encoded data removed]",
      "text/plain": [
       "<Figure size 1000x600 with 1 Axes>"
      ]
     },
     "metadata": {},
     "output_type": "display_data"
    }
   ],
   "source": [
    "fig, ax = plt.subplots(figsize=(10,6))\n",
    "ax.scatter(df['Cylinders'], df['Price'])\n",
    "ax.set_xlabel('Cylinders')\n",
    "ax.set_ylabel('Price')\n",
    "plt.show()"
   ]
  }
 ],
 "metadata": {
  "kernelspec": {
   "display_name": "Python 3 (ipykernel)",
   "language": "python",
   "name": "python3"
  },
  "language_info": {
   "codemirror_mode": {
    "name": "ipython",
    "version": 3
   },
   "file_extension": ".py",
   "mimetype": "text/x-python",
   "name": "python",
   "nbconvert_exporter": "python",
   "pygments_lexer": "ipython3",
   "version": "3.12.4"
  }
 },
 "nbformat": 4,
 "nbformat_minor": 5
}
